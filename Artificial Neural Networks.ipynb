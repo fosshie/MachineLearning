{
 "cells": [
  {
   "cell_type": "markdown",
   "metadata": {},
   "source": [
    "# Chapter 10 Introduction to Artificial Neural Network"
   ]
  },
  {
   "cell_type": "code",
   "execution_count": 1,
   "metadata": {},
   "outputs": [],
   "source": [
    "import numpy as np\n",
    "import tensorflow as tf\n",
    "import os\n",
    "from tensorflow import logging\n",
    "\n",
    "# Suppress verbose output\n",
    "logging.set_verbosity(logging.ERROR)\n",
    "os.environ['TF_CPP_MIN_LOG_LEVEL'] = '3'"
   ]
  },
  {
   "cell_type": "markdown",
   "metadata": {},
   "source": [
    "## TensorFlow's Estimator API\n",
    "\n",
    "Tf.estimator provides a quick and simple way to make an out of the box multi-layer perceptron. Let's train a model on the handwritten digits dataset."
   ]
  },
  {
   "cell_type": "code",
   "execution_count": 2,
   "metadata": {},
   "outputs": [],
   "source": [
    "# Create training, validation, and testing data\n",
    "(X_train, y_train), (X_test, y_test) = tf.keras.datasets.mnist.load_data()\n",
    "X_train = X_train.astype(np.float32).reshape(-1, 28*28) / 255.0\n",
    "X_test = X_test.astype(np.float32).reshape(-1, 28*28) / 255.0\n",
    "y_train = y_train.astype(np.int32)\n",
    "y_test = y_test.astype(np.int32)\n",
    "X_valid, X_train = X_train[:5000], X_train[5000:]\n",
    "y_valid, y_train = y_train[:5000], y_train[5000:]"
   ]
  },
  {
   "cell_type": "code",
   "execution_count": 3,
   "metadata": {},
   "outputs": [
    {
     "data": {
      "text/plain": [
       "<tensorflow_estimator.python.estimator.canned.dnn.DNNClassifier at 0x10bce0a90>"
      ]
     },
     "execution_count": 3,
     "metadata": {},
     "output_type": "execute_result"
    }
   ],
   "source": [
    "feature_cols = [tf.feature_column.numeric_column(\"X\", shape=[28 * 28])]\n",
    "# One 300-neuron and one 100-neuron layer with 10 outputs\n",
    "dnn_clf = tf.estimator.DNNClassifier(hidden_units=[300,100], n_classes=10,\n",
    "                                     feature_columns=feature_cols)\n",
    "input_fn = tf.estimator.inputs.numpy_input_fn(\n",
    "            x={'X': X_train}, y=y_train, num_epochs=40, batch_size=50, shuffle=True)\n",
    "dnn_clf.train(input_fn)"
   ]
  },
  {
   "cell_type": "code",
   "execution_count": 4,
   "metadata": {},
   "outputs": [
    {
     "data": {
      "text/plain": [
       "{'accuracy': 0.9802,\n",
       " 'average_loss': 0.09616462,\n",
       " 'loss': 12.172736,\n",
       " 'global_step': 44000}"
      ]
     },
     "execution_count": 4,
     "metadata": {},
     "output_type": "execute_result"
    }
   ],
   "source": [
    "test_input_fn = tf.estimator.inputs.numpy_input_fn(\n",
    "                x={'X': X_test}, y=y_test, shuffle=False)\n",
    "eval_results = dnn_clf.evaluate(input_fn=test_input_fn)\n",
    "eval_results"
   ]
  },
  {
   "cell_type": "code",
   "execution_count": 5,
   "metadata": {},
   "outputs": [
    {
     "data": {
      "text/plain": [
       "{'logits': array([ -3.1587121,   7.5051556,   3.8394291,   7.4099746,   1.5586507,\n",
       "         -8.774905 , -16.769987 ,  31.140507 ,  -1.462358 ,   7.9416394],\n",
       "       dtype=float32),\n",
       " 'probabilities': array([1.2706889e-15, 5.4362247e-11, 1.3908905e-12, 4.9426633e-11,\n",
       "        1.4215537e-13, 4.6233465e-18, 1.5586109e-21, 1.0000000e+00,\n",
       "        6.9303694e-15, 8.4112342e-11], dtype=float32),\n",
       " 'class_ids': array([7]),\n",
       " 'classes': array([b'7'], dtype=object)}"
      ]
     },
     "execution_count": 5,
     "metadata": {},
     "output_type": "execute_result"
    }
   ],
   "source": [
    "y_pred_generator = dnn_clf.predict(input_fn = test_input_fn)\n",
    "y_pred = list(y_pred_generator)\n",
    "y_pred[0]"
   ]
  },
  {
   "cell_type": "markdown",
   "metadata": {},
   "source": [
    "## Plain TensorFlow"
   ]
  },
  {
   "cell_type": "code",
   "execution_count": 6,
   "metadata": {},
   "outputs": [],
   "source": [
    "n_inputs = 28 * 28\n",
    "n_hidden1 = 300\n",
    "n_hidden2 = 100\n",
    "n_outputs = 10\n",
    "learning_rate = 0.01"
   ]
  },
  {
   "cell_type": "markdown",
   "metadata": {},
   "source": [
    "### Construction Phase"
   ]
  },
  {
   "cell_type": "code",
   "execution_count": 7,
   "metadata": {},
   "outputs": [],
   "source": [
    "tf.reset_default_graph()\n",
    "\n",
    "X = tf.placeholder(tf.float32, shape=(None, n_inputs), name='X')\n",
    "y = tf.placeholder(tf.int32, shape=(None), name='y')\n",
    "\n",
    "with tf.name_scope('dnn'):\n",
    "    hidden1 = tf.layers.dense(X, n_hidden1, name='hidden1', \n",
    "                              activation=tf.nn.relu)\n",
    "    hidden2 = tf.layers.dense(hidden1, n_hidden2, name='hidden2', \n",
    "                              activation=tf.nn.relu)\n",
    "    logits = tf.layers.dense(hidden2, n_outputs, name='outputs')\n",
    "    y_proba = tf.nn.softmax(logits)\n",
    "    \n",
    "with tf.name_scope('loss'):\n",
    "    cross_entropy = tf.nn.sparse_softmax_cross_entropy_with_logits(labels=y, logits=logits)\n",
    "    loss = tf.reduce_mean(cross_entropy, name='loss')\n",
    "    \n",
    "with tf.name_scope('train'):\n",
    "    optimizer = tf.train.GradientDescentOptimizer(learning_rate)\n",
    "    training_op = optimizer.minimize(loss)\n",
    "    \n",
    "with tf.name_scope('eval'):\n",
    "    # Checks whether highest probability class in logits is correct prediction (top 1)\n",
    "    correct = tf.nn.in_top_k(logits, y, 1)\n",
    "    accuracy = tf.reduce_mean(tf.cast(correct, tf.float32))\n",
    "    \n",
    "init = tf.global_variables_initializer()\n",
    "saver = tf.train.Saver()"
   ]
  },
  {
   "cell_type": "markdown",
   "metadata": {},
   "source": [
    "### Execution Phase"
   ]
  },
  {
   "cell_type": "code",
   "execution_count": 8,
   "metadata": {},
   "outputs": [],
   "source": [
    "n_epochs = 20\n",
    "batch_size = 50"
   ]
  },
  {
   "cell_type": "code",
   "execution_count": 9,
   "metadata": {},
   "outputs": [],
   "source": [
    "def shuffle_batch(X, y, batch_size):\n",
    "    rnd_idx = np.random.permutation(len(X))\n",
    "    n_batches = len(X) // batch_size\n",
    "    for batch_idx in np.array_split(rnd_idx, n_batches):\n",
    "        X_batch, y_batch = X[batch_idx], y[batch_idx]\n",
    "        yield X_batch, y_batch"
   ]
  },
  {
   "cell_type": "code",
   "execution_count": 10,
   "metadata": {},
   "outputs": [
    {
     "name": "stdout",
     "output_type": "stream",
     "text": [
      "0 Batch accuracy: 0.8999999761581421 Validation accuracy: 0.9039999842643738\n",
      "1 Batch accuracy: 0.9599999785423279 Validation accuracy: 0.9228000044822693\n",
      "2 Batch accuracy: 0.8399999737739563 Validation accuracy: 0.932200014591217\n",
      "3 Batch accuracy: 0.9599999785423279 Validation accuracy: 0.9395999908447266\n",
      "4 Batch accuracy: 0.9800000190734863 Validation accuracy: 0.9484000205993652\n",
      "5 Batch accuracy: 0.9399999976158142 Validation accuracy: 0.9498000144958496\n",
      "6 Batch accuracy: 0.9599999785423279 Validation accuracy: 0.954200029373169\n",
      "7 Batch accuracy: 0.9800000190734863 Validation accuracy: 0.9556000232696533\n",
      "8 Batch accuracy: 0.9800000190734863 Validation accuracy: 0.9602000117301941\n",
      "9 Batch accuracy: 0.9399999976158142 Validation accuracy: 0.9602000117301941\n",
      "10 Batch accuracy: 1.0 Validation accuracy: 0.9648000001907349\n",
      "11 Batch accuracy: 1.0 Validation accuracy: 0.9675999879837036\n",
      "12 Batch accuracy: 0.9800000190734863 Validation accuracy: 0.9679999947547913\n",
      "13 Batch accuracy: 0.9800000190734863 Validation accuracy: 0.9696000218391418\n",
      "14 Batch accuracy: 0.9800000190734863 Validation accuracy: 0.9702000021934509\n",
      "15 Batch accuracy: 1.0 Validation accuracy: 0.9724000096321106\n",
      "16 Batch accuracy: 0.9800000190734863 Validation accuracy: 0.9732000231742859\n",
      "17 Batch accuracy: 0.9800000190734863 Validation accuracy: 0.9739999771118164\n",
      "18 Batch accuracy: 0.9599999785423279 Validation accuracy: 0.974399983882904\n",
      "19 Batch accuracy: 0.9599999785423279 Validation accuracy: 0.9746000170707703\n"
     ]
    }
   ],
   "source": [
    "with tf.Session() as sess:\n",
    "    init.run()\n",
    "    for epoch in np.arange(n_epochs):\n",
    "        for X_batch, y_batch in shuffle_batch(X_train, y_train, batch_size):\n",
    "            sess.run(training_op, feed_dict={X: X_batch, y: y_batch})\n",
    "        batch_accuracy = accuracy.eval(feed_dict={X: X_batch, y: y_batch})\n",
    "        validation_accuracy = accuracy.eval(feed_dict={X: X_valid, y: y_valid})\n",
    "        print(f'{epoch} Batch accuracy: {batch_accuracy} Validation accuracy: {validation_accuracy}')\n",
    "        \n",
    "    saver.save(sess, 'models/final_mnist_model.ckpt')"
   ]
  },
  {
   "cell_type": "code",
   "execution_count": 11,
   "metadata": {},
   "outputs": [
    {
     "name": "stdout",
     "output_type": "stream",
     "text": [
      "Predicted classes: [7 2 1 0 4 1 4 9 6 9 0 6 9 0 1 5 9 7 3 4]\n",
      "Actual classes:    [7 2 1 0 4 1 4 9 5 9 0 6 9 0 1 5 9 7 3 4]\n"
     ]
    }
   ],
   "source": [
    "# Restore model and use to make predictions\n",
    "with tf.Session() as sess:\n",
    "    saver.restore(sess, 'models/final_mnist_model.ckpt')\n",
    "    X_new = X_test[:20]\n",
    "    Z = logits.eval(feed_dict={X: X_new})\n",
    "    y_pred = np.argmax(Z, axis=1)\n",
    "    \n",
    "print(\"Predicted classes:\", y_pred)\n",
    "print(\"Actual classes:   \", y_test[:20])"
   ]
  },
  {
   "cell_type": "code",
   "execution_count": null,
   "metadata": {},
   "outputs": [],
   "source": []
  },
  {
   "cell_type": "code",
   "execution_count": null,
   "metadata": {},
   "outputs": [],
   "source": []
  }
 ],
 "metadata": {
  "kernelspec": {
   "display_name": "Python 3",
   "language": "python",
   "name": "python3"
  },
  "language_info": {
   "codemirror_mode": {
    "name": "ipython",
    "version": 3
   },
   "file_extension": ".py",
   "mimetype": "text/x-python",
   "name": "python",
   "nbconvert_exporter": "python",
   "pygments_lexer": "ipython3",
   "version": "3.6.7"
  }
 },
 "nbformat": 4,
 "nbformat_minor": 2
}
